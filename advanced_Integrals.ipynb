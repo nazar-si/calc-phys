{
 "cells": [
  {
   "cell_type": "markdown",
   "metadata": {},
   "source": [
    "Before you turn this problem in, make sure everything runs as expected. First, **restart the kernel** (in the menubar, select Kernel$\\rightarrow$Restart) and then **run all cells** (in the menubar, select Cell$\\rightarrow$Run All).\n",
    "\n",
    "Make sure you fill in any place that says `YOUR CODE HERE` or \"YOUR ANSWER HERE\", as well as your github nickname below:"
   ]
  },
  {
   "cell_type": "code",
   "execution_count": 6,
   "metadata": {},
   "outputs": [],
   "source": [
    "NICKNAME = \"nazar-si\""
   ]
  },
  {
   "cell_type": "markdown",
   "metadata": {},
   "source": [
    "---"
   ]
  },
  {
   "cell_type": "markdown",
   "metadata": {
    "deletable": false,
    "editable": false,
    "heading_collapsed": true,
    "nbgrader": {
     "cell_type": "markdown",
     "checksum": "dae37096cb69d9308fedfcc04f2dc929",
     "grade": false,
     "grade_id": "cell-2458024e3a3efd4c",
     "locked": true,
     "schema_version": 3,
     "solution": false,
     "task": false
    }
   },
   "source": [
    "# Часть 1. Гауссовы квадратуры\n",
    "\n",
    "Метод Гауссовых квадратур является одним из методов численного интегрирования, который позволяет увеличить точность интегрирования, используя ортогональные полиномы и их корни в качестве узлов.\n",
    "\n",
    "$$\n",
    "\\int_a^b \\!  w(x)\\, f(x)\\, dx \\approx \\sum_{k=1}^n w_k \\, f(x_k) \\;,\n",
    "$$\n",
    "\n",
    "здесь $\\omega$ - функция весов, которая определят базис ортогональных полиномов, чьи корни используются в качестве узлов интегрирования. \n",
    "\n",
    "Получаемая таким образом квадратурная схема *точно* инегрирует $f(x)$ если это полином степени $m\\le2n-1$, где $n$ - степень полинома, корни которого используются в качестве узлов."
   ]
  },
  {
   "cell_type": "markdown",
   "metadata": {
    "deletable": false,
    "editable": false,
    "heading_collapsed": true,
    "hidden": true,
    "nbgrader": {
     "cell_type": "markdown",
     "checksum": "775042397203e9bde8901fc67df64a80",
     "grade": false,
     "grade_id": "cell-fc379192341494d5",
     "locked": true,
     "schema_version": 3,
     "solution": false,
     "task": false
    }
   },
   "source": [
    "## Двухточечная квадратура Гаусса\n",
    "\n",
    "Постройте квадратурную формулу Гаусса, интегрирующую точно многочлены степеней вплоть до третьей на интервале $[a, b]$. Заметим, что для этого достаточно построить _двухточечную_ квадратуру.\n",
    "\n",
    "    hint:Легко найти точки и веса для отрезка [-1,1], после чего можно сделать аффинное преобразование..\n",
    "\n",
    "Напишите функцию, которая возвращает веса, $w_1$ и $w_2$, и узлы, $x_1$ и $x_2$, двухточечной квадратурной формулы Гаусса с весовой функцией $w(x) = 1$, т.е., интегралы вида\n",
    "\n",
    "$$\n",
    "\\int_a^b\\! f(x)\\, dx \\approx w_1 f(x_1) + w_2 f(x_2)\n",
    "$$"
   ]
  },
  {
   "cell_type": "code",
   "execution_count": 7,
   "metadata": {
    "deletable": false,
    "hidden": true,
    "nbgrader": {
     "cell_type": "code",
     "checksum": "904166366d67e67506e3087dd19ce395",
     "grade": false,
     "grade_id": "cell-cf3c018fa371396b",
     "locked": false,
     "schema_version": 3,
     "solution": true,
     "task": false
    }
   },
   "outputs": [],
   "source": [
    "import numpy as np \n",
    "import scipy.optimize as opt \n",
    "import scipy.special as sp\n",
    "\n",
    "def gauss_2(a, b):\n",
    "   r\"\"\"Return nodes and weights for a two-point Gauss quadrature on [a, b].\n",
    "    \n",
    "    Parameters\n",
    "    ----------\n",
    "    a, b : float\n",
    "       Boundaries of the integration interval\n",
    "       \n",
    "    Returns\n",
    "    -------\n",
    "    x1, x2, w1, w2 : float\n",
    "       Nodes and weights of the quadrature.\n",
    "   \"\"\"\n",
    "   n, w = sp.roots_legendre(2)\n",
    "   s, r = (b + a) / 2, (b - a) / 2\n",
    "   return s + r * n[0], s + r * n[1], r * w[0], r * w[1] "
   ]
  },
  {
   "cell_type": "code",
   "execution_count": 8,
   "metadata": {
    "deletable": false,
    "editable": false,
    "hidden": true,
    "nbgrader": {
     "cell_type": "code",
     "checksum": "0359e8b293f2fb6d01a58c9fedf8394d",
     "grade": true,
     "grade_id": "cell-b6739a7f6045a9ec",
     "locked": true,
     "points": 5,
     "schema_version": 3,
     "solution": false,
     "task": false
    }
   },
   "outputs": [],
   "source": [
    "from numpy.testing import assert_allclose\n",
    "\n",
    "x1, x2, w1, w2 = gauss_2(0, 1)\n",
    "\n",
    "def f(x, n): \n",
    "    return x**n\n",
    "\n",
    "for n in [0, 1, 2, 3]:\n",
    "    assert_allclose(w1*f(x1, n=n) + w2*f(x2, n=n),\n",
    "                    1./(n+1), atol=1e-14)"
   ]
  },
  {
   "cell_type": "markdown",
   "metadata": {
    "deletable": false,
    "editable": false,
    "heading_collapsed": true,
    "hidden": true,
    "nbgrader": {
     "cell_type": "markdown",
     "checksum": "c5f8b30020145459fde89f8633497e81",
     "grade": false,
     "grade_id": "cell-e8c64d5ac1bfac1e",
     "locked": true,
     "schema_version": 3,
     "solution": false,
     "task": false
    }
   },
   "source": [
    "## Использование ортогональных полиномов"
   ]
  },
  {
   "cell_type": "markdown",
   "metadata": {
    "deletable": false,
    "editable": false,
    "heading_collapsed": true,
    "hidden": true,
    "nbgrader": {
     "cell_type": "markdown",
     "checksum": "29bba00b9afe94a4031db5f2999cbfd3",
     "grade": false,
     "grade_id": "cell-fb434c4b7c784b46",
     "locked": true,
     "schema_version": 3,
     "solution": false,
     "task": false
    }
   },
   "source": [
    "### Legendre"
   ]
  },
  {
   "cell_type": "markdown",
   "metadata": {
    "deletable": false,
    "editable": false,
    "hidden": true,
    "nbgrader": {
     "cell_type": "markdown",
     "checksum": "b34d43a5ea949551d5f49894016354bc",
     "grade": false,
     "grade_id": "cell-8e5c8d092b20a000",
     "locked": true,
     "schema_version": 3,
     "solution": false,
     "task": false
    }
   },
   "source": [
    "Теперь посчитаем следующий интеграл:\n",
    "\n",
    "$$\n",
    "\\int_{-1}^1 (7x^3 - 8 x^2 - 3 x + 3) dx  \\label{eq1}\\tag{1}\n",
    "$$\n",
    "\n",
    "Здесь функция уже полиномиальна, поэтому возьмем весовую функцию $\\omega(x) = 1$. Тогда вычисление интеграла сводится к сумме корней полинома, соответствующих весовой функции $\\omega(x) = 1$. Например, здесь https://dlmf.nist.gov/18.3 вы можете увидеть, какой базис полиномов соответствует вашей весовой функции.\n",
    "\n",
    "Заметим, что нашей соответствуют полиномы Лежандра. Теперь, зайдем в документацию https://docs.scipy.org/doc/scipy/reference/special.html#orthogonal-polynomials. Функция *roots_legendre* сразу же выдаст корни полиномов Лежандра, а также веса к их корням (для полиномов Лежандра все эти веса равны единице)."
   ]
  },
  {
   "cell_type": "markdown",
   "metadata": {
    "deletable": false,
    "editable": false,
    "hidden": true,
    "nbgrader": {
     "cell_type": "markdown",
     "checksum": "037083acc46d40c85a54bc7331280cb9",
     "grade": false,
     "grade_id": "cell-a22c173af41a812e",
     "locked": true,
     "schema_version": 3,
     "solution": false,
     "task": false
    }
   },
   "source": [
    "1. Посчитайте точное значение интеграла ([1](#mjx-eqn-eq1)) \"руками\"."
   ]
  },
  {
   "cell_type": "code",
   "execution_count": 9,
   "metadata": {
    "deletable": false,
    "hidden": true,
    "nbgrader": {
     "cell_type": "code",
     "checksum": "2b6ac6e30a26e022387bdecd8fdd616f",
     "grade": true,
     "grade_id": "cell-16f3cafcd6f326e5",
     "locked": false,
     "points": 1,
     "schema_version": 3,
     "solution": true,
     "task": false
    }
   },
   "outputs": [
    {
     "data": {
      "text/plain": [
       "0.6666666666666674"
      ]
     },
     "execution_count": 9,
     "metadata": {},
     "output_type": "execute_result"
    }
   ],
   "source": [
    "\n",
    "I = lambda x : 7 / 4 * x ** 4 - 8 / 3 * x ** 3 - 3 * x ** 2 / 2 + 3 * x\n",
    "res = I(1) - I(-1)\n",
    "res"
   ]
  },
  {
   "attachments": {},
   "cell_type": "markdown",
   "metadata": {
    "deletable": false,
    "editable": false,
    "hidden": true,
    "nbgrader": {
     "cell_type": "markdown",
     "checksum": "c44b7f4761eba9c6e36ed4a20ce8d0ad",
     "grade": false,
     "grade_id": "cell-948b60507b24e367",
     "locked": true,
     "schema_version": 3,
     "solution": false,
     "task": false
    }
   },
   "source": [
    "2. Посчитайте значение интеграла ([1](#mjx-eqn-eq1)), используя обычный метод интегрирования на равномерной сетке (например, написанный вами в предыдущем дз). Оцените количество узлов, необходимых для достижения относительной точности $10^{-10}$.\n",
    "\n",
    "Ответ: Потребовалось 799996 узлов. Значение $\\approx 1 /3$"
   ]
  },
  {
   "cell_type": "code",
   "execution_count": 10,
   "metadata": {
    "deletable": false,
    "hidden": true,
    "nbgrader": {
     "cell_type": "code",
     "checksum": "bd115dffeda241a3731fd014860b2716",
     "grade": true,
     "grade_id": "cell-7790db31d641a7db",
     "locked": false,
     "points": 1,
     "schema_version": 3,
     "solution": true,
     "task": false
    }
   },
   "outputs": [
    {
     "data": {
      "text/plain": [
       "(0.6666666666749999, 799996)"
      ]
     },
     "execution_count": 10,
     "metadata": {},
     "output_type": "execute_result"
    }
   ],
   "source": [
    "# из прошлого дз\n",
    "def midpoint_rule(func, a, b, eps):\n",
    "    \"\"\" Вычисляет интеграл f от a до b используя правило центральной точки \"\"\"\n",
    "    def i(f, a, b, n):\n",
    "        d = (b - a) / n\n",
    "        return np.sum(np.array([d * f(a + (j + 0.5) * d) for j in range(n)]))\n",
    "\n",
    "    n = int((b - a) / eps ** 0.5)\n",
    "    i1 = i(func,a,b,n)\n",
    "    while True: \n",
    "        i2 = i(func,a,b,2 * n)\n",
    "        if abs(i2 - i1) < eps:\n",
    "            return i2, n * 2 \n",
    "        i1 = i2 \n",
    "        n *= 2\n",
    "\n",
    "f = lambda x: 7 * x ** 3 - 8 * x ** 2 - 3 * x + 3\n",
    "value, N = midpoint_rule(f, -1, 1, eps=1e-10)\n",
    "value, N"
   ]
  },
  {
   "cell_type": "markdown",
   "metadata": {
    "deletable": false,
    "editable": false,
    "hidden": true,
    "nbgrader": {
     "cell_type": "markdown",
     "checksum": "f6dabecd2b5598369b254d25c762df09",
     "grade": false,
     "grade_id": "cell-f088101355d78922",
     "locked": true,
     "schema_version": 3,
     "solution": false,
     "task": false
    }
   },
   "source": [
    "3. Посчитайте значение интеграла ([1](#mjx-eqn-eq1)), с помощью Гауссовой квадратуры (используя корни полинома Лежандра степени от 1 до 6 в качестве узлов) (чтобы получить корни и веса используйте scipy.special.roots_legendre)"
   ]
  },
  {
   "cell_type": "code",
   "execution_count": 11,
   "metadata": {
    "deletable": false,
    "hidden": true,
    "nbgrader": {
     "cell_type": "code",
     "checksum": "e856289f89873d2dd62b4d05b7964881",
     "grade": true,
     "grade_id": "cell-6dc2ce8d5be0a99c",
     "locked": false,
     "points": 1,
     "schema_version": 3,
     "solution": true,
     "task": false
    }
   },
   "outputs": [
    {
     "name": "stdout",
     "output_type": "stream",
     "text": [
      "Степень: 1, Ответ: 6.0\n",
      "Степень: 2, Ответ: 0.6666666666666674\n",
      "Степень: 3, Ответ: 0.6666666666666632\n",
      "Степень: 4, Ответ: 0.6666666666666667\n",
      "Степень: 5, Ответ: 0.6666666666666681\n",
      "Степень: 6, Ответ: 0.6666666666666695\n"
     ]
    }
   ],
   "source": [
    "for i in range(6):\n",
    "    n, w = sp.roots_legendre(i + 1)\n",
    "\n",
    "    print(f\"Степень: {i + 1}, Ответ: {f(n) @ w}\")"
   ]
  },
  {
   "cell_type": "markdown",
   "metadata": {
    "deletable": false,
    "editable": false,
    "hidden": true,
    "nbgrader": {
     "cell_type": "markdown",
     "checksum": "7efb7260ef67ce819ece51a1140ae13c",
     "grade": false,
     "grade_id": "cell-c91608154cad03e1",
     "locked": true,
     "schema_version": 3,
     "solution": false,
     "task": false
    }
   },
   "source": [
    "Сравните количество узлов, необходимых для достижения одинаковой точности в обоих чисенных методах."
   ]
  },
  {
   "cell_type": "code",
   "execution_count": 12,
   "metadata": {
    "deletable": false,
    "hidden": true,
    "nbgrader": {
     "cell_type": "code",
     "checksum": "43552b414f9a368c005cc81189908d28",
     "grade": true,
     "grade_id": "cell-16d11da2a52ec8c0",
     "locked": false,
     "points": 1,
     "schema_version": 3,
     "solution": true,
     "task": false
    }
   },
   "outputs": [
    {
     "name": "stdout",
     "output_type": "stream",
     "text": [
      "Ошибка: 1e-1\t | Число узлов Гаусса: 2,\t  Число узлов старого метода: 24 \n",
      "Ошибка: 1e-2\t | Число узлов Гаусса: 2,\t  Число узлов старого метода: 40 \n",
      "Ошибка: 1e-3\t | Число узлов Гаусса: 2,\t  Число узлов старого метода: 252 \n",
      "Ошибка: 1e-4\t | Число узлов Гаусса: 2,\t  Число узлов старого метода: 800 \n",
      "Ошибка: 1e-5\t | Число узлов Гаусса: 2,\t  Число узлов старого метода: 2528 \n",
      "Ошибка: 1e-6\t | Число узлов Гаусса: 2,\t  Число узлов старого метода: 8000 \n",
      "Ошибка: 1e-7\t | Число узлов Гаусса: 2,\t  Число узлов старого метода: 25296 \n",
      "Ошибка: 1e-8\t | Число узлов Гаусса: 2,\t  Число узлов старого метода: 80000 \n",
      "Ошибка: 1e-9\t | Число узлов Гаусса: 2,\t  Число узлов старого метода: 252980 \n",
      "Ошибка: 1e-10\t | Число узлов Гаусса: 2,\t  Число узлов старого метода: 799996 \n"
     ]
    }
   ],
   "source": [
    "I = lambda x : 7 / 4 * x ** 4 - 8 / 3 * x ** 3 - 3 * x ** 2 / 2 + 3 * x\n",
    "ans = I(1) - I(-1)\n",
    "\n",
    "for i in range(10):\n",
    "    err = 10 ** (- i - 1)\n",
    "\n",
    "    k = 0\n",
    "    n = 0\n",
    "    s = 0\n",
    "    while abs(ans - s) > err:\n",
    "        k += 1\n",
    "        N, w = sp.roots_legendre(k)\n",
    "        s = f(N) @ w\n",
    "        n = len(N)\n",
    "    \n",
    "    value, N = midpoint_rule(f, -1, 1, eps=err)\n",
    "    print(f\"Ошибка: 1e-{i + 1}\\t | Число узлов Гаусса: {n},\\t  Число узлов старого метода: {N} \")\n",
    "\n",
    "    "
   ]
  },
  {
   "cell_type": "markdown",
   "metadata": {
    "deletable": false,
    "editable": false,
    "hidden": true,
    "nbgrader": {
     "cell_type": "markdown",
     "checksum": "5b464089f419aba26b8917d6a50b5533",
     "grade": false,
     "grade_id": "cell-90f6342d2fe72d9b",
     "locked": true,
     "schema_version": 3,
     "solution": false,
     "task": false
    }
   },
   "source": [
    "\n",
    "Вычислите значение того же интеграла, но на интервале от 0 до 10.\n",
    "\n",
    "$$\n",
    "\\int_{0}^{10} (7x^3 - 8 x^2 - 3 x + 3) dx \n",
    "$$\n",
    "\n",
    "Заметим, что больше нельзя использовать полиномы Лежанда, потому что они определены на интервале (-1, 1). Однако всегда можно произвести *аффинное преобразование* для того, чтобы перейти к желаемой системе координат.\n",
    "\n",
    "(20% итоговой оценки)"
   ]
  },
  {
   "cell_type": "code",
   "execution_count": 13,
   "metadata": {
    "deletable": false,
    "hidden": true,
    "nbgrader": {
     "cell_type": "code",
     "checksum": "ecbb9c326dedcff540534ea083ac90d7",
     "grade": true,
     "grade_id": "cell-000ec6abd35fcdd9",
     "locked": false,
     "points": 2,
     "schema_version": 3,
     "solution": true,
     "task": false
    }
   },
   "outputs": [
    {
     "name": "stdout",
     "output_type": "stream",
     "text": [
      "14713.333333333332\n"
     ]
    }
   ],
   "source": [
    "n, w = sp.roots_legendre(6)\n",
    "x = 5 * n + 5 # (10 - 0) / 2 * n + (10 + 0) / 2\n",
    "print(5 * f(x) @ w)"
   ]
  },
  {
   "cell_type": "markdown",
   "metadata": {
    "deletable": false,
    "editable": false,
    "hidden": true,
    "nbgrader": {
     "cell_type": "markdown",
     "checksum": "fecefb6e3a941594b03ce8c9abc97370",
     "grade": false,
     "grade_id": "cell-dc53e776f48381a8",
     "locked": true,
     "schema_version": 3,
     "solution": false,
     "task": false
    }
   },
   "source": [
    "Сравните результат с точным значением интеграла."
   ]
  },
  {
   "attachments": {},
   "cell_type": "markdown",
   "metadata": {
    "deletable": false,
    "hidden": true,
    "nbgrader": {
     "cell_type": "markdown",
     "checksum": "dca43a77feb14bb6c6ed16db35ff40dd",
     "grade": true,
     "grade_id": "cell-05021cdd64e858e1",
     "locked": false,
     "points": 2,
     "schema_version": 3,
     "solution": true,
     "task": false
    }
   },
   "source": [
    "Решение интеграла, полученное через Mathematica:\n",
    "```ts\n",
    "Integrate[7 x ^3 - 8 x^2 - 3 x + 3, {x, 0, 10}]\n",
    "```\n",
    "$$\n",
    "\\cfrac{44140}{3} \\approx 14713.33\n",
    "$$\n",
    "\n",
    "Так что полученное значение хорошо совпадает с действительным."
   ]
  },
  {
   "attachments": {},
   "cell_type": "markdown",
   "metadata": {
    "deletable": false,
    "editable": false,
    "heading_collapsed": true,
    "hidden": true,
    "nbgrader": {
     "cell_type": "markdown",
     "checksum": "f12bff0315d6af95982b633bfa67cecc",
     "grade": false,
     "grade_id": "cell-ca98b358d26e8b43",
     "locked": true,
     "schema_version": 3,
     "solution": false,
     "task": false
    }
   },
   "source": [
    "### \n",
    "\n",
    "Вычислите значение следующиего интеграла:\n",
    "$$\n",
    "\\int_{0}^{2\\pi} \\frac{cos(x) dx }{\\sqrt{4\\pi^2 - x^2}}\n",
    "$$\n",
    "используя соответствующий базис ортогональных полиномов.\n",
    "Найдите степень полинома (количество узлов), при которой точность превысит машинное $\\epsilon$.\n",
    "\n",
    "\n",
    "Приведем к отрезку $[-1, 1]$:\n",
    "$$\n",
    "z = \\cfrac{x}{2\\pi}\n",
    "$$\n",
    "$$\n",
    "\\int_0^1 \\cfrac{\\cos(2\\pi z)\\text{d} z}{\\sqrt{1 - z^2}} = \\cfrac{1}{2}\\int_{-1}^1\\cfrac{\\cos(2\\pi z)\\text{d} z}{\\sqrt{1 - z^2}}\n",
    "$$\n",
    "\n",
    "Ответ выражается через функцию Бесселя и равен численно $0.346010158812...$ (Mathematica)"
   ]
  },
  {
   "cell_type": "code",
   "execution_count": 14,
   "metadata": {
    "deletable": false,
    "hidden": true,
    "nbgrader": {
     "cell_type": "code",
     "checksum": "d9b01518a9d8e7c760eb991dc9f214af",
     "grade": true,
     "grade_id": "cell-6d27cbe45695ad3b",
     "locked": false,
     "points": 5,
     "schema_version": 3,
     "solution": true,
     "task": false
    }
   },
   "outputs": [
    {
     "name": "stdout",
     "output_type": "stream",
     "text": [
      "0.3460101588122642\n",
      "Здесь сравнивается инкремент между разными аппроксимации, пока он не достигнет машинной точности\n",
      "Ответ совпадает с тем, что был выдан в Mathematica\n"
     ]
    }
   ],
   "source": [
    "f = lambda y: np.cos(2 * np.pi *  y) / 2\n",
    "err = 1e-16\n",
    "ans = 1\n",
    "pans = 0\n",
    "i = 0\n",
    "while abs(ans - pans) > err:\n",
    "    i += 1\n",
    "    pans = ans\n",
    "    n, w = sp.roots_chebyt(i)\n",
    "    ans = f(n) @ w\n",
    "\n",
    "print(ans)\n",
    "print(\"Здесь сравнивается инкремент между разными аппроксимации, пока он не достигнет машинной точности\")\n",
    "print(\"Ответ совпадает с тем, что был выдан в Mathematica\")"
   ]
  },
  {
   "cell_type": "markdown",
   "metadata": {
    "deletable": false,
    "editable": false,
    "heading_collapsed": true,
    "nbgrader": {
     "cell_type": "markdown",
     "checksum": "bd74aa881e284f20c1aae900f86db9a2",
     "grade": false,
     "grade_id": "cell-acdd1eabc208c54c",
     "locked": true,
     "schema_version": 3,
     "solution": false,
     "task": false
    }
   },
   "source": [
    "# Часть 2. Уравение Фредгольма\n",
    "\n",
    "Существует два типа уравнений Фредгольма: \n",
    "\n",
    "1. Уравение Фредгольма первого рода:\n",
    "$$\n",
    "\\int_a^b \\! K(x, t)\\, \\color{blue}{f(t)} \\,dt = g(x)\n",
    "$$\n",
    "\n",
    "2. Уравнение Фредгольма второго рода:\n",
    "$$\n",
    "\\lambda \\int_a^b\\! K(x, t)\\, \\color{blue}{f(t)} \\, dt + g(x) = \\color{blue}{f(x)}\n",
    "$$\n",
    "\n",
    "Здесь функция $f(x)$ неизвестна, $K(x, t)$ - ядро уравнения, заданная функция $g(x)$ и $\\lambda$ - рациональное число.\n",
    "С точки зрения вычислений, уравение Фредгольма первого рода крайне неустойчиво. Далее мы рассмотрим только уравнение второго рода."
   ]
  },
  {
   "cell_type": "markdown",
   "metadata": {
    "deletable": false,
    "editable": false,
    "hidden": true,
    "nbgrader": {
     "cell_type": "markdown",
     "checksum": "a9628395f1d23de5cc15e5e1c381375e",
     "grade": false,
     "grade_id": "cell-36ee7577a4e0dc70",
     "locked": true,
     "schema_version": 3,
     "solution": false,
     "task": false
    }
   },
   "source": [
    "Основная идея - аппроксимировать интеграл некой квадратурной формулой\n",
    "\n",
    "$$\n",
    "\\int_a^b \\! \\xi(t)\\, dt \\approx \\sum_j^N w_j\\, \\xi(t_j)\n",
    "$$\n",
    "\n",
    "с подходящими весами $w_j$ и узлами $t_j$, $j=1, \\dots, N$. Точность аппроксимации контролируется $N$."
   ]
  },
  {
   "cell_type": "markdown",
   "metadata": {
    "deletable": false,
    "editable": false,
    "hidden": true,
    "nbgrader": {
     "cell_type": "markdown",
     "checksum": "a74f70c8935aafb7c5b437c8f5112906",
     "grade": false,
     "grade_id": "cell-0f6dbee289827a84",
     "locked": true,
     "schema_version": 3,
     "solution": false,
     "task": false
    }
   },
   "source": [
    "Таким образом, уравнение Фредгольма приближается следующим образом:\n",
    "\n",
    "$$\n",
    "\\lambda \\sum_j w_j\\, K(x, t_j)\\, \\color{blue}{f(t_j)} + g(x) = \\color{blue}{f(x)}\n",
    "$$\n",
    "\n",
    "Отметим, что $x$ - непрерывная переменная, в то время, как $t$ - дискретная."
   ]
  },
  {
   "cell_type": "markdown",
   "metadata": {
    "deletable": false,
    "editable": false,
    "hidden": true,
    "nbgrader": {
     "cell_type": "markdown",
     "checksum": "bbae1dde3d73ef7f88a463b46ef347e3",
     "grade": false,
     "grade_id": "cell-d25f3a12e14deb3e",
     "locked": true,
     "schema_version": 3,
     "solution": false,
     "task": false
    }
   },
   "source": [
    "Рассматривая данное уравнение на тех же узлах сетки $x = t_k$, получаем\n",
    "\n",
    "$$\n",
    "\\lambda \\sum_j w_j \\, K_{k, j}\\, \\color{blue}{f_j} + g_k = \\color{blue}{f_k}\n",
    "$$\n",
    "\n",
    "где $f_j \\equiv f(t_j)$, $g_j \\equiv g(t_j)$ and $K_{k, j} \\equiv K(t_k, t_j)$. Это ничто иное, как система линейных алгебраических уравнений на вектор $\\color{blue}{f_j}$.\n",
    "\n",
    "Ее решение выдает значение неизвестной функции $f(x)$ в дискретных точках $x=t_j$ для $j=1, \\dots, N$."
   ]
  },
  {
   "cell_type": "markdown",
   "metadata": {
    "deletable": false,
    "editable": false,
    "hidden": true,
    "nbgrader": {
     "cell_type": "markdown",
     "checksum": "d181e448b52543b8da4c5c4499aa45cf",
     "grade": false,
     "grade_id": "cell-7c2ff82c3137923b",
     "locked": true,
     "schema_version": 3,
     "solution": false,
     "task": false
    }
   },
   "source": [
    "\n",
    "Решите предложенное уравнение Фредгольма второго рода\n",
    "\n",
    "$$\n",
    "f(x) = \\cos(x)  + \\frac{1}{2\\pi} \\int_0^\\pi \\! \\sin(x) \\,t f(t) \\, dt\n",
    "$$\n",
    "\n",
    "Здесь $a, b = 0, 1$, $\\lambda = \\dfrac{1}{2\\pi}$, ядро $K(x, t) = \\sin(x)\\cdot t$ и правая часть - $g(x) = \\cos(x)$.\n",
    "\n",
    "Точное решение (Сборник задач по интегральным уравнениям, 2006):\n",
    "\n",
    "$$\n",
    "f(x) = \\cos(x)- \\frac{2}{\\pi}\\sin(x)\n",
    "$$"
   ]
  },
  {
   "cell_type": "markdown",
   "metadata": {
    "deletable": false,
    "editable": false,
    "hidden": true,
    "nbgrader": {
     "cell_type": "markdown",
     "checksum": "bab482b2121658773bed1c35ed3e9692",
     "grade": false,
     "grade_id": "cell-0686a98da0e5aabb",
     "locked": true,
     "schema_version": 3,
     "solution": false,
     "task": false
    }
   },
   "source": [
    "Для нахождения интеграла преобразуйте заменой переменных в интеграле область интегрирования в [0,1] воспользуйтесь Гауссовой квадратурой с весовой функцией $w(x) = 1$ на $(0, 1)$. Посмотрите на http://dlmf.nist.gov/18.3, и найдите соответствующую функцию в *scipy.special* (обратите внимание на область интегрирования).\n",
    "\n",
    "Напишите функцию, возвращающую значение f(t_j) по схеме выше, которая в качестве параметра принимает величину $N$--число узлов в квадратуре, для нахождение решения СЛАУ можно использовать `scipy.linalg.solve`.\n",
    "\n",
    "Постройте график истинного решения и набор (t_j, f_j) для раличных $N$, используя вашу функцию."
   ]
  },
  {
   "cell_type": "code",
   "execution_count": 15,
   "metadata": {
    "deletable": false,
    "hidden": true,
    "nbgrader": {
     "cell_type": "code",
     "checksum": "8ef0119a4fa579caf3c668ffbcb89691",
     "grade": true,
     "grade_id": "cell-5b344dd355335170",
     "locked": false,
     "points": 5,
     "schema_version": 3,
     "solution": true,
     "task": false
    }
   },
   "outputs": [
    {
     "data": {
      "image/png": "[encoded data removed]",
      "text/plain": [
       "<Figure size 432x288 with 1 Axes>"
      ]
     },
     "metadata": {
      "needs_background": "light"
     },
     "output_type": "display_data"
    }
   ],
   "source": [
    "from scipy.linalg import solve\n",
    "import matplotlib.pyplot as plt\n",
    "import matplotlib as mpl\n",
    "mpl.rcParams[\"figure.figsize\"] = (16, 9)\n",
    "\n",
    "solution = lambda x: np.cos(x) - (2 / np.pi) * np.sin(x)\n",
    "\n",
    "# Синусы, на которые раскладываемся K(x, t_j)\n",
    "sin = lambda x, tj: np.sin(np.pi * x) * tj\n",
    "# Аналогично, косинусы \n",
    "cos = lambda x: np.cos(np.pi * x)\n",
    "\n",
    "\n",
    "def helper(N):\n",
    "    n, w = sp.roots_sh_legendre(N)\n",
    "    \n",
    "    f = solve(\n",
    "            np.pi / 2 * np.array([w * sin(tj, n) for tj in n]) - np.eye(N), \n",
    "            - cos(n)\n",
    "        )\n",
    "\n",
    "    return f\n",
    "\n",
    "\n",
    "for N in range(2, 10):\n",
    "    k = int(N ** 1.5)\n",
    "    n, w = sp.roots_sh_legendre(k)\n",
    "\n",
    "    x = n * np.pi\n",
    "    f = helper(k)\n",
    "\n",
    "    plt.plot(x, f, label=f'$N = {k}$')\n",
    "\n",
    "\n",
    "\n",
    "plt.plot(np.linspace(0, 3.14, 150), solution(np.linspace(0, 3.14, 150)), label='Точно решение')\n",
    "plt.legend()\n",
    "plt.grid()\n",
    "plt.show()"
   ]
  },
  {
   "cell_type": "markdown",
   "metadata": {
    "deletable": false,
    "editable": false,
    "hidden": true,
    "nbgrader": {
     "cell_type": "markdown",
     "checksum": "f6cd5427e76b1f02f0a5bca71daabf2f",
     "grade": false,
     "grade_id": "cell-72937e0192d8f26e",
     "locked": true,
     "schema_version": 3,
     "solution": false,
     "task": false
    }
   },
   "source": [
    "Очевидной проблемой предыдущего результата для $f(x)$ является то, что он возвращает решения на фиксированном наборе точек. Мы не контролируем их расположение.\n",
    "\n",
    "Оказывается, интерполяционные методы (мы обсудим их на следующих занятиях) работают не очень хорошо, в сравнении с следующим подходом:"
   ]
  },
  {
   "cell_type": "markdown",
   "metadata": {
    "deletable": false,
    "editable": false,
    "hidden": true,
    "nbgrader": {
     "cell_type": "markdown",
     "checksum": "0d6c47a9858013151f2ddbac99976258",
     "grade": false,
     "grade_id": "cell-eb09876399147c69",
     "locked": true,
     "schema_version": 3,
     "solution": false,
     "task": false
    }
   },
   "source": [
    "Используйте изначальный вид, чтобы вычислить значение функции на всём интервале:\n",
    "\n",
    "$$\n",
    "f(x) = g(x) + \\lambda \\sum_j^N w_j\\, K(x, t_j)\\, f(t_j)\n",
    "$$\n",
    "\n",
    "Сравните эту интерполяцию с точным решением для разлиных $N$.\n",
    "(выбирайте наглядный масштаб)"
   ]
  },
  {
   "cell_type": "code",
   "execution_count": 16,
   "metadata": {
    "deletable": false,
    "hidden": true,
    "nbgrader": {
     "cell_type": "code",
     "checksum": "6bdc45a399812573474d4e79d749a014",
     "grade": true,
     "grade_id": "cell-89229632156a22f0",
     "locked": false,
     "points": 2,
     "schema_version": 3,
     "solution": true,
     "task": false
    }
   },
   "outputs": [
    {
     "data": {
      "image/png": "[encoded data removed]",
      "text/plain": [
       "<Figure size 432x288 with 1 Axes>"
      ]
     },
     "metadata": {
      "needs_background": "light"
     },
     "output_type": "display_data"
    }
   ],
   "source": [
    "sample = np.linspace(0, 3.14, 150)\n",
    "\n",
    "for i in range(0, 6):\n",
    "    n, w = sp.roots_sh_legendre(i + 1)\n",
    "    f_discret = helper(i + 1)\n",
    "    f = lambda x: cos(x) + np.pi / 2 * (w * sin(x, n) * f_discret).sum()\n",
    "\n",
    "    plt.plot(sample, [f(x / np.pi) for x in sample], label=f\"N = {i + 1}\")\n",
    "\n",
    "plt.plot(sample, solution(sample), label='Точно решение')\n",
    "plt.grid()\n",
    "plt.legend()\n",
    "plt.show()\n",
    "    "
   ]
  },
  {
   "cell_type": "markdown",
   "metadata": {
    "deletable": false,
    "editable": false,
    "heading_collapsed": true,
    "nbgrader": {
     "cell_type": "markdown",
     "checksum": "9d707bd9e18bbf023cddf791e05ae328",
     "grade": false,
     "grade_id": "cell-70721ae1c137e72e",
     "locked": true,
     "schema_version": 3,
     "solution": false,
     "task": false
    }
   },
   "source": [
    "# Часть 3. Интеграл от осциллирующей функции - EXTRA points task\n",
    "\n",
    "Рассмотрим определенный интеграл\n",
    "\n",
    "$$\n",
    "I = \\int_0^\\infty\\! \\frac{\\sin(x) \\cos{(\\cos{(x)})}}{x}\\,dx\n",
    "$$\n",
    "\n",
    "Вычислите значение данного интеграла с относительной точностью $10^{-6}$. Для упрощения задачи можете воспользоваться функционалом `scipy.integrate.quad`.\n",
    "\n",
    "Заметим, что \"из коробки\" интеграл вычислить не удается, и нужно что-то придумать."
   ]
  },
  {
   "cell_type": "code",
   "execution_count": 17,
   "metadata": {
    "ExecuteTime": {
     "end_time": "2022-10-31T20:25:23.757358Z",
     "start_time": "2022-10-31T20:25:23.138756Z"
    },
    "deletable": false,
    "editable": false,
    "hidden": true,
    "nbgrader": {
     "cell_type": "code",
     "checksum": "11f9ea8995c2fc47c6518788c1e3a53b",
     "grade": false,
     "grade_id": "cell-515f8f19764eb256",
     "locked": true,
     "schema_version": 3,
     "solution": false,
     "task": false
    }
   },
   "outputs": [
    {
     "name": "stderr",
     "output_type": "stream",
     "text": [
      "C:\\Users\\TechnoDX\\AppData\\Local\\Temp\\ipykernel_10896\\778045123.py:4: IntegrationWarning: The integral is probably divergent, or slowly convergent.\n",
      "  quad(lambda x: sin(x) * cos(cos(x)) / x, 0, float('inf'))\n"
     ]
    },
    {
     "data": {
      "text/plain": [
       "(1.9653912540956733, 4.089174284042322)"
      ]
     },
     "execution_count": 17,
     "metadata": {},
     "output_type": "execute_result"
    }
   ],
   "source": [
    "from math import sin, cos\n",
    "\n",
    "from scipy.integrate import quad\n",
    "quad(lambda x: sin(x) * cos(cos(x)) / x, 0, float('inf'))"
   ]
  },
  {
   "attachments": {},
   "cell_type": "markdown",
   "metadata": {
    "deletable": false,
    "editable": false,
    "hidden": true,
    "nbgrader": {
     "cell_type": "markdown",
     "checksum": "53e2ba2b52667aada8dc1a7f43391ef4",
     "grade": false,
     "grade_id": "cell-e34178c9823af271",
     "locked": true,
     "schema_version": 3,
     "solution": false,
     "task": false
    }
   },
   "source": [
    "Напишите функцию, которая возвращает значение данного интеграла. Только само значение интеграла, без оценки погрешности.\n",
    "(оборачиваем интеграл в функцию только для удобства автопроверки).\n",
    "\n",
    "\n",
    "Если мы посмотрим на форму функции $\\cos(\\cos(x))$ мы увидим, что она очень похожа на обычный сдвинутый косинус. Можно найти её очень простое приближение через разложение в ряд косинусов, что требует лишь взятие интеграла от 0 до $2\\pi$. Первый член разложения выражается через функцию Бесселя:\n",
    "$$\n",
    "a_0 = \\cfrac{1}{2\\pi}\\int_0^{2\\pi}\\cos(\\cos(x))dx = J_0(1)\n",
    "$$\n",
    "$$\n",
    "a_1 = 0 \n",
    "$$\n",
    "\n",
    "Все дальнейшие: \n",
    "$$\n",
    "a_n = \\cfrac{1}{\\pi}\\int_0^{\\pi}\\cos(\\cos(x))\\cos(nx)dx\n",
    "$$\n",
    "Подстановка членов разложения потом потребует вычисления данных интегралов:\n",
    "$$\n",
    "\\int_0^\\infty \\cfrac{\\sin(x)\\cos(nx)}{x}dx = \\cfrac{\\pi^2}{2 \\cdot 2\\pi}\\int_0^\\infty I_{[-1,1]}(x)\\cdot(\\delta(n - \\omega) + \\delta(n + \\omega))d\\omega = \\begin{cases}\n",
    "\\cfrac{\\pi}{2} & n = 0\\\\\n",
    "\\cfrac{\\pi}{4} & n = 1\\\\\n",
    "0 & n > 1\n",
    "\\end{cases}\n",
    "$$\n",
    "\n",
    "Здесь мы непосредственно применили теорему Парсеваля, переведя $\\sin(x)/x$ в частотном представлении в индикатор $I_{[-1,1]}(\\omega)$ и косинус в две дельта-функции. Видно, что решение тогда есть при $n$ равном нулю и $1$ (причем в этом случае попадают только половинки дельта функции на концах индикатора, что уменьшило ответ в два раза), иначе $\\delta(2n - \\omega)$ не попадает в область действия индикатора. Это значит, что разложение $cos(\\cos(x))$ в ряд косинусов вовсе не имеет значение для $n > 1$ и нас интересует только первый член разложения: \n",
    "\n",
    "$$\n",
    "\\int_0^{\\infty} \\cfrac{\\sin(x)\\cos(\\cos(x))dx}{x}dx = \\int_0^{\\infty}\\cfrac{a_0 \\sin(x)}{x}dx + \\int_0^{\\infty}\\cfrac{a_1\\cos(x) \\sin(x)}{x}dx + \\sum_{n =2}^\\infty \\int_0^{\\infty}\\cfrac{\\sin(x)\\cos(2nx)}{x}dx =\n",
    "$$\n",
    "$$\n",
    "= a_0 \\int_0^\\infty \\cfrac{\\sin(x)}{x} = J_0(1)\\cdot \\cfrac{\\pi}{2}\n",
    "$$\n",
    "\n",
    "Если я правильно понял, я случайно решил интеграл, пытаясь привести его к бесконечной сумме, где мне в идеале надо было бы посчитать только интегралы $\\int_0^{2\\pi}\\cos(nx)\\cos(\\cos(x))dx$ для разных $n$ и просуммировать выражения выше :)"
   ]
  },
  {
   "cell_type": "code",
   "execution_count": 18,
   "metadata": {
    "ExecuteTime": {
     "end_time": "2022-10-31T20:25:43.060678Z",
     "start_time": "2022-10-31T20:25:43.052101Z"
    },
    "deletable": false,
    "hidden": true,
    "nbgrader": {
     "cell_type": "code",
     "checksum": "f9fa2326b0f5d084ce9385ccd5a2fbd7",
     "grade": false,
     "grade_id": "cell-ddd4e0b6d148fcfd",
     "locked": false,
     "schema_version": 3,
     "solution": true,
     "task": false
    }
   },
   "outputs": [
    {
     "data": {
      "text/plain": [
       "1.2019697153172066"
      ]
     },
     "execution_count": 18,
     "metadata": {},
     "output_type": "execute_result"
    }
   ],
   "source": [
    "from scipy.integrate import quad\n",
    "\n",
    "def integ():\n",
    "    J_01 = sp.jv(0, 1) # Бессель первого порядка от 1\n",
    "    return np.pi * J_01 / 2\n"
   ]
  },
  {
   "cell_type": "code",
   "execution_count": 19,
   "metadata": {
    "deletable": false,
    "editable": false,
    "hidden": true,
    "nbgrader": {
     "cell_type": "code",
     "checksum": "28f736930b29b8de099e68693bd5f160",
     "grade": true,
     "grade_id": "cell-b341c2ce36bc957d",
     "locked": true,
     "points": 10,
     "schema_version": 3,
     "solution": false,
     "task": false
    }
   },
   "outputs": [],
   "source": [
    "from numpy.testing import assert_allclose\n",
    "\n",
    "# this is a test cell, keep it intact\n"
   ]
  }
 ],
 "metadata": {
  "kernelspec": {
   "display_name": "Python 3",
   "language": "python",
   "name": "python3"
  },
  "language_info": {
   "codemirror_mode": {
    "name": "ipython",
    "version": 3
   },
   "file_extension": ".py",
   "mimetype": "text/x-python",
   "name": "python",
   "nbconvert_exporter": "python",
   "pygments_lexer": "ipython3",
   "version": "3.10.6"
  },
  "latex_envs": {
   "LaTeX_envs_menu_present": true,
   "autoclose": true,
   "autocomplete": false,
   "bibliofile": "biblio.bib",
   "cite_by": "apalike",
   "current_citInitial": 1,
   "eqLabelWithNumbers": true,
   "eqNumInitial": 1,
   "hotkeys": {
    "equation": "Ctrl-E",
    "itemize": "Ctrl-I"
   },
   "labels_anchors": false,
   "latex_user_defs": false,
   "report_style_numbering": false,
   "user_envs_cfg": false
  },
  "toc": {
   "base_numbering": 1,
   "nav_menu": {},
   "number_sections": true,
   "sideBar": true,
   "skip_h1_title": false,
   "title_cell": "Table of Contents",
   "title_sidebar": "Contents",
   "toc_cell": false,
   "toc_position": {},
   "toc_section_display": true,
   "toc_window_display": false
  },
  "vscode": {
   "interpreter": {
    "hash": "28f83bf948cdec89b1141f0418316448765d7e0b251714ef4b1dc99f1a1aec48"
   }
  }
 },
 "nbformat": 4,
 "nbformat_minor": 4
}
